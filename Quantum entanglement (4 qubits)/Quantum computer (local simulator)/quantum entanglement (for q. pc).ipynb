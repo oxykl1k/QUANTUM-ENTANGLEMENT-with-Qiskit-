{
 "cells": [
  {
   "cell_type": "markdown",
   "id": "0818cb1b-bec8-426c-91e0-6ca54d4356ca",
   "metadata": {},
   "source": [
    "# QUANTUM ENTANGLEMENT\n",
    "Here is the code to run the quantum entanglement simulation via real quantum computer (IBM). This notebook allow you to see a result with a specific type of code (in special 'chains'), developed expressly for quantum computers."
   ]
  },
  {
   "cell_type": "code",
   "execution_count": 5,
   "id": "5840ea78-453e-4121-942f-6202e04017fb",
   "metadata": {},
   "outputs": [],
   "source": [
    "from qiskit import QuantumCircuit"
   ]
  }
 ],
 "metadata": {
  "kernelspec": {
   "display_name": "Python 3 (ipykernel)",
   "language": "python",
   "name": "python3"
  },
  "language_info": {
   "codemirror_mode": {
    "name": "ipython",
    "version": 3
   },
   "file_extension": ".py",
   "mimetype": "text/x-python",
   "name": "python",
   "nbconvert_exporter": "python",
   "pygments_lexer": "ipython3",
   "version": "3.11.4"
  }
 },
 "nbformat": 4,
 "nbformat_minor": 5
}
