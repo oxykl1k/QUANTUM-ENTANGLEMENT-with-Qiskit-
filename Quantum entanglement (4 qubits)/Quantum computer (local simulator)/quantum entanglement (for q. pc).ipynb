{
  "metadata": {
    "language_info": {
      "codemirror_mode": {
        "name": "python",
        "version": 3
      },
      "file_extension": ".py",
      "mimetype": "text/x-python",
      "name": "python",
      "nbconvert_exporter": "python",
      "pygments_lexer": "ipython3",
      "version": "3.8"
    },
    "kernelspec": {
      "name": "python",
      "display_name": "Python (Pyodide)",
      "language": "python"
    }
  },
  "nbformat_minor": 4,
  "nbformat": 4,
  "cells": [
    {
      "cell_type": "markdown",
      "source": "# QUANTUM ENTANGLEMENT\nHere is the code to run the quantum entanglement simulation via real quantum computer (IBM). This notebook allow you to see a result with a specific type of code (in special 'chains'), developed expressly for quantum computers.",
      "metadata": {}
    },
    {
      "cell_type": "code",
      "source": "# Importing Qiskit\nfrom qiskit import QuantumCircuit, transpile, assemble, Aer, execute",
      "metadata": {
        "trusted": true
      },
      "execution_count": 3,
      "outputs": [
        {
          "ename": "<class 'ModuleNotFoundError'>",
          "evalue": "No module named 'qiskit'",
          "traceback": [
            "\u001b[0;31m---------------------------------------------------------------------------\u001b[0m",
            "\u001b[0;31mModuleNotFoundError\u001b[0m                       Traceback (most recent call last)",
            "Cell \u001b[0;32mIn[3], line 2\u001b[0m\n\u001b[1;32m      1\u001b[0m \u001b[38;5;66;03m# Importing Qiskit\u001b[39;00m\n\u001b[0;32m----> 2\u001b[0m \u001b[38;5;28;01mfrom\u001b[39;00m \u001b[38;5;21;01mqiskit\u001b[39;00m \u001b[38;5;28;01mimport\u001b[39;00m QuantumCircuit, transpile, assemble, Aer, execute\n",
            "\u001b[0;31mModuleNotFoundError\u001b[0m: No module named 'qiskit'"
          ],
          "output_type": "error"
        }
      ]
    },
    {
      "cell_type": "code",
      "source": "# Create a quantum circuit with 4 qubits\nqc = QuantumCircuit(4, 4)\n\n# Apply Hadamard gate (qubit 0)\nqc.h(0)\n\n# Entangle the qubits with CNOT\nqc.cx(0, 1)\nqc.cx(0, 2)\nqc.cx(0, 3)",
      "metadata": {
        "trusted": true
      },
      "execution_count": 4,
      "outputs": [
        {
          "ename": "<class 'NameError'>",
          "evalue": "name 'QuantumCircuit' is not defined",
          "traceback": [
            "\u001b[0;31m---------------------------------------------------------------------------\u001b[0m",
            "\u001b[0;31mNameError\u001b[0m                                 Traceback (most recent call last)",
            "Cell \u001b[0;32mIn[4], line 2\u001b[0m\n\u001b[1;32m      1\u001b[0m \u001b[38;5;66;03m# Create a quantum circuit with 4 qubits\u001b[39;00m\n\u001b[0;32m----> 2\u001b[0m qc \u001b[38;5;241m=\u001b[39m \u001b[43mQuantumCircuit\u001b[49m(\u001b[38;5;241m4\u001b[39m, \u001b[38;5;241m4\u001b[39m)\n\u001b[1;32m      4\u001b[0m \u001b[38;5;66;03m# Apply Hadamard gate (qubit 0)\u001b[39;00m\n\u001b[1;32m      5\u001b[0m qc\u001b[38;5;241m.\u001b[39mh(\u001b[38;5;241m0\u001b[39m)\n",
            "\u001b[0;31mNameError\u001b[0m: name 'QuantumCircuit' is not defined"
          ],
          "output_type": "error"
        }
      ]
    },
    {
      "cell_type": "code",
      "source": "# Measure all qubits\nqc.measure_all()\n\n# Simulate the circuit on a local simulator\nsimulator = Aer.get_backend('qasm_simulator')\njob = execute(qc, simulator, shots = 1024)",
      "metadata": {
        "trusted": true
      },
      "execution_count": 5,
      "outputs": [
        {
          "ename": "<class 'NameError'>",
          "evalue": "name 'qc' is not defined",
          "traceback": [
            "\u001b[0;31m---------------------------------------------------------------------------\u001b[0m",
            "\u001b[0;31mNameError\u001b[0m                                 Traceback (most recent call last)",
            "Cell \u001b[0;32mIn[5], line 2\u001b[0m\n\u001b[1;32m      1\u001b[0m \u001b[38;5;66;03m# Measure all qubits\u001b[39;00m\n\u001b[0;32m----> 2\u001b[0m \u001b[43mqc\u001b[49m\u001b[38;5;241m.\u001b[39mmeasure_all()\n\u001b[1;32m      4\u001b[0m \u001b[38;5;66;03m# Simulate the circuit on a local simulator\u001b[39;00m\n\u001b[1;32m      5\u001b[0m simulator \u001b[38;5;241m=\u001b[39m Aer\u001b[38;5;241m.\u001b[39mget_backend(\u001b[38;5;124m'\u001b[39m\u001b[38;5;124mqasm_simulator\u001b[39m\u001b[38;5;124m'\u001b[39m)\n",
            "\u001b[0;31mNameError\u001b[0m: name 'qc' is not defined"
          ],
          "output_type": "error"
        }
      ]
    },
    {
      "cell_type": "code",
      "source": "# Result\nresult = job.result()\ncounts = result.get_counts(qc)\n\nqc.draw()\nprint(counts)",
      "metadata": {
        "trusted": true
      },
      "execution_count": 6,
      "outputs": [
        {
          "ename": "<class 'NameError'>",
          "evalue": "name 'job' is not defined",
          "traceback": [
            "\u001b[0;31m---------------------------------------------------------------------------\u001b[0m",
            "\u001b[0;31mNameError\u001b[0m                                 Traceback (most recent call last)",
            "Cell \u001b[0;32mIn[6], line 2\u001b[0m\n\u001b[1;32m      1\u001b[0m \u001b[38;5;66;03m# Result\u001b[39;00m\n\u001b[0;32m----> 2\u001b[0m result \u001b[38;5;241m=\u001b[39m \u001b[43mjob\u001b[49m\u001b[38;5;241m.\u001b[39mresult()\n\u001b[1;32m      3\u001b[0m counts \u001b[38;5;241m=\u001b[39m result\u001b[38;5;241m.\u001b[39mget_counts(qc)\n\u001b[1;32m      5\u001b[0m qc\u001b[38;5;241m.\u001b[39mdraw()\n",
            "\u001b[0;31mNameError\u001b[0m: name 'job' is not defined"
          ],
          "output_type": "error"
        }
      ]
    }
  ]
}