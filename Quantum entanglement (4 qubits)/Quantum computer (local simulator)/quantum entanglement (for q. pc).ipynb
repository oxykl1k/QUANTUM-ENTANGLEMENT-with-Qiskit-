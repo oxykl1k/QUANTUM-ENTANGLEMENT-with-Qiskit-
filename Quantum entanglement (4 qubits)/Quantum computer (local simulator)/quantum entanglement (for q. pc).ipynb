{
 "cells": [
  {
   "cell_type": "markdown",
   "id": "0818cb1b-bec8-426c-91e0-6ca54d4356ca",
   "metadata": {},
   "source": [
    "# QUANTUM ENTANGLEMENT\n",
    "Here is the code to run the quantum entanglement simulation via real quantum computer (IBM). This notebook allow you to see a result with a specific type of code (in special 'chains'), developed expressly for quantum computers."
   ]
  },
  {
   "cell_type": "code",
   "execution_count": 1,
   "id": "5840ea78-453e-4121-942f-6202e04017fb",
   "metadata": {},
   "outputs": [],
   "source": [
    "# Importing Qiskit\n",
    "from qiskit import QuantumCircuit, transpile, assemble, Aer, execute"
   ]
  },
  {
   "cell_type": "code",
   "execution_count": 2,
   "id": "23849405-2143-4af5-8aa0-73cff4847923",
   "metadata": {},
   "outputs": [
    {
     "data": {
      "text/html": [
       "<pre style=\"word-wrap: normal;white-space: pre;background: #fff0;line-height: 1.1;font-family: &quot;Courier New&quot;,Courier,monospace\">     ┌───┐               \n",
       "q_0: ┤ H ├──■────■────■──\n",
       "     └───┘┌─┴─┐  │    │  \n",
       "q_1: ─────┤ X ├──┼────┼──\n",
       "          └───┘┌─┴─┐  │  \n",
       "q_2: ──────────┤ X ├──┼──\n",
       "               └───┘┌─┴─┐\n",
       "q_3: ───────────────┤ X ├\n",
       "                    └───┘\n",
       "c: 4/════════════════════\n",
       "                         </pre>"
      ],
      "text/plain": [
       "     ┌───┐               \n",
       "q_0: ┤ H ├──■────■────■──\n",
       "     └───┘┌─┴─┐  │    │  \n",
       "q_1: ─────┤ X ├──┼────┼──\n",
       "          └───┘┌─┴─┐  │  \n",
       "q_2: ──────────┤ X ├──┼──\n",
       "               └───┘┌─┴─┐\n",
       "q_3: ───────────────┤ X ├\n",
       "                    └───┘\n",
       "c: 4/════════════════════\n",
       "                         "
      ]
     },
     "execution_count": 2,
     "metadata": {},
     "output_type": "execute_result"
    }
   ],
   "source": [
    "# Create a quantum circuit with 4 qubits\n",
    "qc = QuantumCircuit(4, 4)\n",
    "\n",
    "# Apply Hadamard gate (qubit 0)\n",
    "qc.h(0)\n",
    "\n",
    "# Entangle the qubits with CNOT\n",
    "qc.cx(0, 1)\n",
    "qc.cx(0, 2)\n",
    "qc.cx(0, 3)\n",
    "\n",
    "# Showing the 'chain' of qubits\n",
    "qc.draw()"
   ]
  },
  {
   "cell_type": "code",
   "execution_count": 3,
   "id": "2827a614-592f-430a-a485-b0ad68167666",
   "metadata": {},
   "outputs": [],
   "source": [
    "# Measure all qubits\n",
    "qc.measure_all()\n",
    "\n",
    "# Simulate the circuit on a local simulator\n",
    "simulator = Aer.get_backend('qasm_simulator')\n",
    "job = execute(qc, simulator, shots = 1024)"
   ]
  },
  {
   "cell_type": "code",
   "execution_count": 4,
   "id": "86c0dde3-47bd-422c-aa19-16fd5c1aa017",
   "metadata": {},
   "outputs": [
    {
     "name": "stdout",
     "output_type": "stream",
     "text": [
      "{'0000 0000': 538, '1111 0000': 486}\n"
     ]
    }
   ],
   "source": [
    "# Result\n",
    "result = job.result()\n",
    "counts = result.get_counts(qc)\n",
    "\n",
    "print(counts)"
   ]
  }
 ],
 "metadata": {
  "kernelspec": {
   "display_name": "Python 3 (ipykernel)",
   "language": "python",
   "name": "python3"
  },
  "language_info": {
   "codemirror_mode": {
    "name": "ipython",
    "version": 3
   },
   "file_extension": ".py",
   "mimetype": "text/x-python",
   "name": "python",
   "nbconvert_exporter": "python",
   "pygments_lexer": "ipython3",
   "version": "3.11.4"
  }
 },
 "nbformat": 4,
 "nbformat_minor": 5
}
