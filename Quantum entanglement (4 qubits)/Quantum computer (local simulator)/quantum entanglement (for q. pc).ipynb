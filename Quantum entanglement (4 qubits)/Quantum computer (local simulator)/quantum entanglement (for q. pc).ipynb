{
  "metadata": {
    "language_info": {
      "name": ""
    },
    "kernelspec": {
      "name": "python",
      "display_name": "Python (Pyodide)",
      "language": "python"
    }
  },
  "nbformat_minor": 4,
  "nbformat": 4,
  "cells": [
    {
      "cell_type": "code",
      "source": "#Importing Qiskit\nfrom qiskit import QuantumCircuit, transpile, assemble, Aer, execute",
      "metadata": {},
      "execution_count": null,
      "outputs": []
    },
    {
      "cell_type": "code",
      "source": "# Create a quantum circuit with 4 qubits\nqc = QuantumCircuit(4, 4)\n\n# Apply Hadamard gate (qubit 0)\nqc.h(0)\n\n# Entangle the qubits with CNOT\nqc.cx(0, 1)\nqc.cx(0, 2)\nqc.cx(0, 3)",
      "metadata": {},
      "execution_count": null,
      "outputs": []
    },
    {
      "cell_type": "code",
      "source": "# Measure all qubits\nqc.measure_all()\n\n# Simulate the circuit on a local simulator\nsimulator = Aer.get_backend('qasm_simulator')\njob = execute(qc, simulator, shots = 1024)",
      "metadata": {
        "trusted": true
      },
      "execution_count": null,
      "outputs": []
    },
    {
      "cell_type": "markdown",
      "source": "# Result\nresult = job.result()\ncounts = result.get_counts(qc)\n\nqc.draw()\nprint(counts)",
      "metadata": {}
    }
  ]
}